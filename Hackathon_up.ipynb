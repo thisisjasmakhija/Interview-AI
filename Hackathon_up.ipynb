{
 "cells": [
  {
   "cell_type": "code",
   "execution_count": 1,
   "id": "007e54fd-d814-4aaa-8814-09dd74822da1",
   "metadata": {},
   "outputs": [],
   "source": [
    "import datetime\n",
    "from dateutil.parser import parse as parse_datetime\n",
    "import re\n",
    "from google.oauth2.credentials import Credentials\n",
    "from google_auth_oauthlib.flow import InstalledAppFlow\n",
    "from googleapiclient.discovery import build\n",
    "from googleapiclient.errors import HttpError\n",
    "import smtplib\n",
    "from email.mime.text import MIMEText\n",
    "from pytz import UTC, timezone\n",
    "import spacy\n",
    "import nltk\n",
    "from nltk.tokenize import word_tokenize"
   ]
  },
  {
   "cell_type": "code",
   "execution_count": 2,
   "id": "92c03324-3183-4a56-8d4a-e84ff6400c60",
   "metadata": {},
   "outputs": [],
   "source": [
    "nlp = spacy.load(\"en_core_web_sm\")\n",
    "\n",
    "api_scope = ['https://www.googleapis.com/auth/calendar']\n",
    "rec_mail = \"jasmakhija1234@gmail.com\"\n",
    "conf_mail = \"religious7903@gmail.com\"\n",
    "app_pass = \"amltccltzhlhwiww\"\n",
    "mail_regex = r'^[a-zA-Z0-9._%+-]+@[a-zA-Z0-9.-]+\\.[a-zA-Z]{2,}$'\n",
    "ist = timezone('Asia/Kolkata')\n",
    "st_hour = 9\n",
    "end_hour = 16 "
   ]
  },
  {
   "cell_type": "code",
   "execution_count": 3,
   "id": "33ee763d-e277-43d7-9cce-c2ffbfd52bf1",
   "metadata": {},
   "outputs": [],
   "source": [
    "def check():\n",
    "    creds = None\n",
    "    try:\n",
    "        flow = InstalledAppFlow.from_client_secrets_file('credentials.json', api_scope)\n",
    "        creds = flow.run_local_server(port=3000)\n",
    "        print(\"succ auth\")\n",
    "    except FileNotFoundError:\n",
    "        print(\"check folder for file cred\")\n",
    "        return None\n",
    "    except Exception as e:\n",
    "        print(f\" auth error is : {e}\")\n",
    "        return None\n",
    "    return build('calendar', 'v3', credentials=creds)"
   ]
  },
  {
   "cell_type": "code",
   "execution_count": 4,
   "id": "3e6e70bf-1188-4f73-a642-a90773fd9d67",
   "metadata": {},
   "outputs": [],
   "source": [
    "def check_slot_availability(gservice_obj, start_time, end_time):\n",
    "    if gservice_obj is None:\n",
    "        return False\n",
    "    events_result = gservice_obj.events().list(\n",
    "        calendarId='primary', timeMin=start_time.isoformat(), timeMax=end_time.isoformat(),\n",
    "        singleEvents=True, orderBy='startTime').execute()\n",
    "    return len(events_result.get('items', [])) == 0"
   ]
  },
  {
   "cell_type": "code",
   "execution_count": 5,
   "id": "7fa35739-a853-411a-bbfd-57e053e4a178",
   "metadata": {},
   "outputs": [],
   "source": [
    "def parse_date_time(text):\n",
    "    text = text.lower().strip()\n",
    "    today = datetime.datetime.now(ist).date()\n",
    "    now_utc = datetime.datetime.now(UTC)\n",
    "    tokens = word_tokenize(text)\n",
    "    doc = nlp(text)\n",
    "    \n",
    "    target_date = None\n",
    "    target_time = None\n",
    "    \n",
    "    weekdays = {\n",
    "        'monday': 0, 'tuesday': 1, 'wednesday': 2, 'thursday': 3, 'friday': 4, 'saturday': 5, 'sunday': 6,\n",
    "        'mon': 0, 'tue': 1, 'wed': 2, 'thu': 3, 'fri': 4, 'sat': 5, 'sun': 6\n",
    "    }\n",
    "    \n",
    "    date_time_match = re.search(r'(\\d{1,2})\\s*([a-z]+)\\s*(\\d{1,2})(am|pm)?', text)\n",
    "    if date_time_match:\n",
    "        day = int(date_time_match.group(1))\n",
    "        month_str = date_time_match.group(2)[:3]\n",
    "        hour = int(date_time_match.group(3))\n",
    "        period = date_time_match.group(4)\n",
    "        \n",
    "        months = {'jan': 1, 'feb': 2, 'mar': 3, 'apr': 4, 'may': 5, 'jun': 6,\n",
    "                 'jul': 7, 'aug': 8, 'sep': 9, 'oct': 10, 'nov': 11, 'dec': 12}\n",
    "        \n",
    "        if month_str in months:\n",
    "            month = months[month_str]\n",
    "            year = today.year if datetime.date(today.year, month, day) >= today else today.year + 1\n",
    "            if period == \"pm\" and hour < 12:\n",
    "                hour = hour + 12\n",
    "            elif period == \"am\" and hour == 12:\n",
    "                hour = 0\n",
    "            target_date = datetime.date(year, month, day)\n",
    "            target_time = datetime.time(hour, 0)\n",
    "    \n",
    "    if not target_date:\n",
    "        for ent in doc.ents:\n",
    "            if ent.label_ == \"DATE\":\n",
    "                try:\n",
    "                    dt = parse_datetime(ent.text, fuzzy=True, default=datetime.datetime.combine(today, datetime.time(0, 0)))\n",
    "                    target_date = dt.date()\n",
    "                except ValueError:\n",
    "                    continue\n",
    "            elif ent.label_ == \"TIME\":\n",
    "                try:\n",
    "                    dt = parse_datetime(ent.text, fuzzy=True, default=datetime.datetime.combine(today, datetime.time(0, 0)))\n",
    "                    target_time = dt.time()\n",
    "                except ValueError:\n",
    "                    continue\n",
    "    \n",
    "    for i, token in enumerate(doc):\n",
    "        if token.text in weekdays:\n",
    "            days_ahead = weekdays[token.text] - today.weekday()\n",
    "            if days_ahead <= 0:\n",
    "                days_ahead += 7\n",
    "            target_date = today + datetime.timedelta(days=days_ahead)\n",
    "        \n",
    "        if token.text == \"today\":\n",
    "            target_date = today\n",
    "        elif token.text == \"tomorrow\":\n",
    "            target_date = today + datetime.timedelta(days=1)\n",
    "        \n",
    "        if token.text == \"morning\":\n",
    "            target_time = datetime.time(10, 0)\n",
    "        elif token.text == \"afternoon\":\n",
    "            target_time = datetime.time(14, 0)\n",
    "        \n",
    "        if token.pos_ == \"NUM\" and token.head.text in [\"am\", \"pm\"]:\n",
    "            hour = int(token.text)\n",
    "            if token.head.text == \"pm\" and hour < 12:\n",
    "                hour += 12\n",
    "            elif token.head.text == \"am\" and hour == 12:\n",
    "                hour = 0\n",
    "            target_time = datetime.time(hour, 0)\n",
    "    \n",
    "    if not target_time:\n",
    "        time_match = re.search(r'(\\d{1,2})(?::(\\d{2}))?\\s*(am|pm)?', text)\n",
    "        if time_match:\n",
    "            hour = int(time_match.group(1))\n",
    "            minute = int(time_match.group(2)) if time_match.group(2) else 0\n",
    "            period = time_match.group(3)\n",
    "            if period == \"pm\" and hour < 12:\n",
    "                hour += 12\n",
    "            elif period == \"am\" and hour == 12:\n",
    "                hour = 0\n",
    "            if 0 <= hour < 24 and 0 <= minute < 60:\n",
    "                target_time = datetime.time(hour, minute)\n",
    "    \n",
    "    if not target_date:\n",
    "        target_date = today\n",
    "    if not target_time:\n",
    "        target_time = datetime.time(st_hour, 0)\n",
    "    \n",
    "    local_dt = ist.localize(datetime.datetime.combine(target_date, target_time))\n",
    "    utc_dt = local_dt.astimezone(UTC)\n",
    "    \n",
    "    if (local_dt.hour < st_hour or local_dt.hour > end_hour or\n",
    "        utc_dt < now_utc):\n",
    "        return None\n",
    "    \n",
    "    return utc_dt"
   ]
  },
  {
   "cell_type": "code",
   "execution_count": 6,
   "id": "a63e10d4-4f7c-44f2-b4e4-19d5266902b1",
   "metadata": {},
   "outputs": [],
   "source": [
    "def get_valid_availability():\n",
    "    while True:\n",
    "        availability = input(\"When are you available? /n write in format such as '20 march 2pm', 'tomorrow 9am', 'monday 4pm', 'tue 3pm': \")\n",
    "        target_datetime = parse_date_time(availability)\n",
    "        \n",
    "        if target_datetime:\n",
    "            end_time = target_datetime + datetime.timedelta(hours=1)\n",
    "            return target_datetime\n",
    "        else:\n",
    "            print(\"Invalid input, time outside 9 AM to 4 PM IST, or in the past. Please try again.\")"
   ]
  },
  {
   "cell_type": "code",
   "execution_count": 7,
   "id": "14a4ac22-c87e-41d4-b400-1f3c310fa413",
   "metadata": {},
   "outputs": [],
   "source": [
    "def schedule_meeting(gservice_obj, start_time, end_time, candidate_email):\n",
    "    if gservice_obj is None:\n",
    "        return None\n",
    "    meeting_event = {\n",
    "        'summary': 'intervieww',\n",
    "        'start': {'dateTime': start_time.isoformat(), 'timeZone': 'UTC'},\n",
    "        'end': {'dateTime': end_time.isoformat(), 'timeZone': 'UTC'},\n",
    "        'attendees': [{'email': rec_mail}, {'email': candidate_email}],\n",
    "        'reminders': {'useDefault': False, 'overrides': [{'method': 'email', 'minutes': 30}, {'method': 'popup', 'minutes': 10}]},\n",
    "        'conferenceData': {'createRequest': {'requestId': f\"{start_time.strftime('%Y%m%d%H%M%S')}\", 'conferenceSolutionKey': {'type': 'hangoutsMeet'}}}\n",
    "    }\n",
    "    \n",
    "    try:\n",
    "        return gservice_obj.events().insert(calendarId='primary', body=meeting_event, conferenceDataVersion=1, sendUpdates='all').execute()\n",
    "    except HttpError as error:\n",
    "        print(f\"An error occurred while creating the meeting: {error}\")\n",
    "        return None"
   ]
  },
  {
   "cell_type": "code",
   "execution_count": 8,
   "id": "bf684beb-6415-4210-9269-c6b85492cc4e",
   "metadata": {},
   "outputs": [],
   "source": [
    "def send_email(candidate_email, start_time, end_time, meet_link):\n",
    "    local_start = start_time.astimezone(ist).strftime('%Y-%m-%d %I:%M %p %Z')\n",
    "    local_end = end_time.astimezone(ist).strftime('%Y-%m-%d %I:%M %p %Z')\n",
    "    \n",
    "    msg_body = f\"Interview scheduled from {local_start} to {local_end}\\nJoin the meeting here: {meet_link}\"\n",
    "    msg = MIMEText(msg_body)\n",
    "    msg['Subject'] = 'interview confirmation'\n",
    "    msg['From'] = conf_mail\n",
    "    msg['To'] = candidate_email\n",
    "    \n",
    "    try:\n",
    "        with smtplib.SMTP('smtp.gmail.com', 587) as server:\n",
    "            server.starttls()\n",
    "            server.login(conf_mail, app_pass)\n",
    "            server.send_message(msg)\n",
    "        return True\n",
    "    except smtplib.SMTPException as e:\n",
    "        print(f\"SMTP Error: {e}\")\n",
    "        return False\n"
   ]
  },
  {
   "cell_type": "code",
   "execution_count": 9,
   "id": "6277a18f-bb19-41cb-9986-96b149f81469",
   "metadata": {},
   "outputs": [],
   "source": [
    "def get_available_slots_before(gservice_obj, target_datetime, duration=datetime.timedelta(hours=1)):\n",
    "    target_date = target_datetime.astimezone(ist).date()\n",
    "    start_of_day = ist.localize(datetime.datetime.combine(target_date, datetime.time(st_hour, 0)))\n",
    "    end_limit = min(target_datetime, ist.localize(datetime.datetime.combine(target_date, datetime.time(end_hour, 0))))\n",
    "    \n",
    "    available_slots = []\n",
    "    current_start = start_of_day\n",
    "    \n",
    "    while current_start + duration <= end_limit:\n",
    "        current_end = current_start + duration\n",
    "        if check_slot_availability(gservice_obj, current_start, current_end):\n",
    "            available_slots.append((current_start, current_end))\n",
    "        current_start += datetime.timedelta(hours=1)\n",
    "    \n",
    "    return available_slots"
   ]
  },
  {
   "cell_type": "code",
   "execution_count": 10,
   "id": "5ae9742e-e116-473d-acea-3956fabb979c",
   "metadata": {},
   "outputs": [],
   "source": [
    "def get_available_slots_after(gservice_obj, target_datetime, duration=datetime.timedelta(hours=1)):\n",
    "    target_date = target_datetime.astimezone(ist).date()\n",
    "    start_limit = target_datetime\n",
    "    end_of_day = ist.localize(datetime.datetime.combine(target_date, datetime.time(end_hour, 0)))\n",
    "    \n",
    "    available_slots = []\n",
    "    current_start = start_limit\n",
    "    \n",
    "    while current_start + duration <= end_of_day:\n",
    "        current_end = current_start + duration\n",
    "        if check_slot_availability(gservice_obj, current_start, current_end):\n",
    "            available_slots.append((current_start, current_end))\n",
    "        current_start += datetime.timedelta(hours=1)\n",
    "    \n",
    "    return available_slots"
   ]
  },
  {
   "cell_type": "code",
   "execution_count": 11,
   "id": "b5b4ff1b-2089-4b29-92d6-d67dcf4e9adb",
   "metadata": {},
   "outputs": [],
   "source": [
    "def get_available_slots_between(gservice_obj, target_date, duration=datetime.timedelta(hours=1)):\n",
    "    start_of_day = ist.localize(datetime.datetime.combine(target_date, datetime.time(st_hour, 0)))\n",
    "    end_of_day = ist.localize(datetime.datetime.combine(target_date, datetime.time(end_hour, 0)))\n",
    "    \n",
    "    available_slots = []\n",
    "    current_start = start_of_day\n",
    "    \n",
    "    while current_start + duration <= end_of_day:\n",
    "        current_end = current_start + duration\n",
    "        if check_slot_availability(gservice_obj, current_start, current_end):\n",
    "            available_slots.append((current_start, current_end))\n",
    "        current_start += datetime.timedelta(hours=1)\n",
    "    \n",
    "    return available_slots"
   ]
  },
  {
   "cell_type": "code",
   "execution_count": 12,
   "id": "10171cb0-f451-4fb6-a646-80210014154f",
   "metadata": {},
   "outputs": [],
   "source": [
    "def main():\n",
    "    gservice_obj = check()\n",
    "    if gservice_obj is None:\n",
    "        print(\"auth failed with google cal\")\n",
    "        return\n",
    "    \n",
    "    while True:\n",
    "        print(\"\\nAI scheduling bot\")\n",
    "        #print(\"enter date and time\")\n",
    "        print(\" enter in format like: '20 march 2pm', 'today 4pm', 'monday 4pm', 'tue 3pm'\")\n",
    "        \n",
    "        candidate_email = input(\"enter your email: \").strip()\n",
    "        if not re.match(mail_regex, candidate_email):\n",
    "            print(\"invalid email format. pls. enter a valid email address\")\n",
    "            continue\n",
    "        \n",
    "        target_datetime = get_valid_availability()\n",
    "        if not target_datetime:\n",
    "            continue\n",
    "        \n",
    "        meeting_duration = datetime.timedelta(hours=1)\n",
    "        requested_end = target_datetime + meeting_duration\n",
    "        \n",
    "        if check_slot_availability(gservice_obj, target_datetime, requested_end):\n",
    "            start_time = target_datetime\n",
    "            end_time = requested_end\n",
    "        else:\n",
    "            print(f\"Sorry the requested time /n\"\n",
    "                  f\"{target_datetime.astimezone(ist).strftime('%Y-%m-%d %I:%M %p %Z')} is not available.\")\n",
    "            \n",
    "            \n",
    "            target_date = target_datetime.astimezone(ist).date()\n",
    "            slots_before = get_available_slots_before(gservice_obj, target_datetime)\n",
    "            slots_after = get_available_slots_after(gservice_obj, target_datetime)\n",
    "            slots_all = get_available_slots_between(gservice_obj, target_date)\n",
    "            \n",
    "            if not slots_all:\n",
    "                print(f\"no available slots on {target_date.strftime('%Y-%m-%d')} between {st_hour}:00 and {end_hour}:00 IST\")\n",
    "                continue\n",
    "            \n",
    "            print(\"\\n available slots for the day \")\n",
    "            for slot_start, slot_end in slots_all:\n",
    "                print(f\"{slot_start.astimezone(ist).strftime('%I:%M %p')} - \"\n",
    "                      f\"{slot_end.astimezone(ist).strftime('%I:%M %p')}\")\n",
    "            \n",
    "            choice = input(\"\\n would you like to book one of these slots write y for yes (y/n): \").lower()\n",
    "            if choice != 'y':\n",
    "                continue\n",
    "                \n",
    "            while True:\n",
    "                new_time = input(\"enter the start time you'd like (e.g., '2:00 pm'): \").strip()\n",
    "                try:\n",
    "                    parsed_time = parse_datetime(new_time, default=datetime.datetime.combine(target_date, datetime.time(0, 0)))\n",
    "                    new_start = ist.localize(parsed_time)\n",
    "                    new_end = new_start + meeting_duration\n",
    "                    \n",
    "                    if (new_start.hour < st_hour or new_end.hour > end_hour or\n",
    "                        new_start < datetime.datetime.now(ist)):\n",
    "                        print(\" time outside working hours or in the past \\n pl try again\")\n",
    "                        continue\n",
    "                    \n",
    "                    if check_slot_availability(gservice_obj, new_start, new_end):\n",
    "                        start_time = new_start\n",
    "                        end_time = new_end\n",
    "                        break\n",
    "                    else:\n",
    "                        print(\"this slot is not available pl choose another time\")\n",
    "                except ValueError:\n",
    "                    print(\"invalid time format. pl try again.\")\n",
    "        \n",
    "        if not check_slot_availability(gservice_obj, start_time, end_time):\n",
    "            print(\"Slot unavailable\")\n",
    "            continue\n",
    "        \n",
    "        meeting_event = schedule_meeting(gservice_obj, start_time, end_time, candidate_email)\n",
    "        \n",
    "        if meeting_event and 'id' in meeting_event:\n",
    "            meet_link = meeting_event.get('hangoutLink', 'no google meet link generated')\n",
    "            print(f\"meeting scheduled successfully \"\n",
    "                  f\"{start_time.astimezone(ist).strftime('%Y-%m-%d %I:%M %p %Z')} to \"\n",
    "                  f\"{end_time.astimezone(ist).strftime('%Y-%m-%d %I:%M %p %Z')}\")\n",
    "            print(f\"google meet link {meet_link}\")\n",
    "            \n",
    "            email_sent = send_email(candidate_email, start_time, end_time, meet_link)\n",
    "            if email_sent:\n",
    "                print(\"conf. email sent with meet link\")\n",
    "            else:\n",
    "                print(\"failed to send confirmation email\")\n",
    "        else:\n",
    "            print(\"failed to schedule the meeting in google galendar\")\n",
    "        \n",
    "        if input(\"schedule another meet?(y/n): \").lower() != 'y':\n",
    "            break"
   ]
  },
  {
   "cell_type": "code",
   "execution_count": 13,
   "id": "53f410fa-30cc-40cd-9f95-6b658747a45c",
   "metadata": {},
   "outputs": [
    {
     "name": "stdout",
     "output_type": "stream",
     "text": [
      "Please visit this URL to authorize this application: https://accounts.google.com/o/oauth2/auth?response_type=code&client_id=998403459185-kma8aj7rp8skb481irbr751smpnctv7b.apps.googleusercontent.com&redirect_uri=http%3A%2F%2Flocalhost%3A3000%2F&scope=https%3A%2F%2Fwww.googleapis.com%2Fauth%2Fcalendar&state=ZzjZEgRsGvEinILFIRzyhop3BtmB9B&access_type=offline\n",
      "succ auth\n",
      "\n",
      "AI scheduling bot\n",
      " enter in format like: '20 march 2pm', 'today 4pm', 'monday 4pm', 'tue 3pm'\n"
     ]
    },
    {
     "name": "stdin",
     "output_type": "stream",
     "text": [
      "enter your email:  jasmakhija1234\n"
     ]
    },
    {
     "name": "stdout",
     "output_type": "stream",
     "text": [
      "invalid email format. pls. enter a valid email address\n",
      "\n",
      "AI scheduling bot\n",
      " enter in format like: '20 march 2pm', 'today 4pm', 'monday 4pm', 'tue 3pm'\n"
     ]
    },
    {
     "name": "stdin",
     "output_type": "stream",
     "text": [
      "enter your email:  jasmakhija1234@gmail.com\n",
      "When are you available? /n write in format such as '20 march 2pm', 'tomorrow 9am', 'monday 4pm', 'tue 3pm':  tomorrow 2pm\n"
     ]
    },
    {
     "name": "stdout",
     "output_type": "stream",
     "text": [
      "Sorry the requested time /n2025-03-20 02:00 PM IST is not available.\n",
      "\n",
      " available slots for the day \n",
      "10:00 AM - 11:00 AM\n",
      "11:00 AM - 12:00 PM\n",
      "01:00 PM - 02:00 PM\n",
      "03:00 PM - 04:00 PM\n"
     ]
    },
    {
     "name": "stdin",
     "output_type": "stream",
     "text": [
      "\n",
      " would you like to book one of these slots write y for yes (y/n):  n\n"
     ]
    },
    {
     "name": "stdout",
     "output_type": "stream",
     "text": [
      "\n",
      "AI scheduling bot\n",
      " enter in format like: '20 march 2pm', 'today 4pm', 'monday 4pm', 'tue 3pm'\n"
     ]
    },
    {
     "name": "stdin",
     "output_type": "stream",
     "text": [
      "enter your email:  jasmakhija1234@gmail.com\n",
      "When are you available? /n write in format such as '20 march 2pm', 'tomorrow 9am', 'monday 4pm', 'tue 3pm':  today 6pm\n"
     ]
    },
    {
     "name": "stdout",
     "output_type": "stream",
     "text": [
      "Invalid input, time outside 9 AM to 4 PM IST, or in the past. Please try again.\n"
     ]
    },
    {
     "name": "stdin",
     "output_type": "stream",
     "text": [
      "When are you available? /n write in format such as '20 march 2pm', 'tomorrow 9am', 'monday 4pm', 'tue 3pm':  friday 9am\n"
     ]
    },
    {
     "name": "stdout",
     "output_type": "stream",
     "text": [
      "meeting scheduled successfully 2025-03-21 09:00 AM IST to 2025-03-21 10:00 AM IST\n",
      "google meet link https://meet.google.com/itt-ypws-nin\n",
      "conf. email sent with meet link\n"
     ]
    },
    {
     "name": "stdin",
     "output_type": "stream",
     "text": [
      "schedule another meet?(y/n):  n\n"
     ]
    }
   ],
   "source": [
    "main()"
   ]
  }
 ],
 "metadata": {
  "kernelspec": {
   "display_name": "Python 3 (ipykernel)",
   "language": "python",
   "name": "python3"
  },
  "language_info": {
   "codemirror_mode": {
    "name": "ipython",
    "version": 3
   },
   "file_extension": ".py",
   "mimetype": "text/x-python",
   "name": "python",
   "nbconvert_exporter": "python",
   "pygments_lexer": "ipython3",
   "version": "3.11.7"
  }
 },
 "nbformat": 4,
 "nbformat_minor": 5
}
